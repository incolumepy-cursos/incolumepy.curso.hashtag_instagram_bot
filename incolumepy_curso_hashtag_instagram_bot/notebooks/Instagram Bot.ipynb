{
 "cells": [
  {
   "cell_type": "code",
   "execution_count": 1,
   "id": "320888cb",
   "metadata": {},
   "outputs": [],
   "source": [
    "from selenium import webdriver\n",
    "from selenium.webdriver.common.by import By\n",
    "from selenium.common.exceptions import NoSuchElementException\n",
    "import os\n",
    "import toml\n",
    "from pathlib import Path\n",
    "from time import sleep"
   ]
  },
  {
   "cell_type": "code",
   "execution_count": 2,
   "id": "ba539f94",
   "metadata": {},
   "outputs": [],
   "source": [
    "# query='brau_brito'\n",
    "query='dra.braubrito'"
   ]
  },
  {
   "cell_type": "code",
   "execution_count": 3,
   "id": "f470a07a",
   "metadata": {},
   "outputs": [],
   "source": [
    "navegador = webdriver.Chrome()"
   ]
  },
  {
   "cell_type": "code",
   "execution_count": 4,
   "id": "f47da2fb",
   "metadata": {},
   "outputs": [
    {
     "data": {
      "text/plain": [
       "True"
      ]
     },
     "execution_count": 4,
     "metadata": {},
     "output_type": "execute_result"
    }
   ],
   "source": [
    "conf = Path().resolve().parents[0] / 'configure.toml'\n",
    "conf.is_file()"
   ]
  },
  {
   "cell_type": "code",
   "execution_count": 5,
   "id": "3ccd704d",
   "metadata": {},
   "outputs": [],
   "source": [
    "navegador.get('https://instagram.com')\n",
    "sleep(5)"
   ]
  },
  {
   "cell_type": "code",
   "execution_count": 6,
   "id": "5938553d",
   "metadata": {},
   "outputs": [],
   "source": [
    "# auth\n",
    "navegador.find_element(by=By.XPATH, value='//*[@id=\"loginForm\"]/div/div[1]/div/label/input').send_keys(toml.load(conf)['instagram']['user'])\n",
    "navegador.find_element(by=By.XPATH, value='//*[@id=\"loginForm\"]/div/div[2]/div/label/input').send_keys(toml.load(conf)['instagram']['pw'])\n",
    "navegador.find_element(by=By.XPATH, value='//*[@id=\"loginForm\"]/div/div[3]/button').click()\n",
    "sleep(5)"
   ]
  },
  {
   "cell_type": "code",
   "execution_count": 7,
   "id": "96d831af",
   "metadata": {},
   "outputs": [],
   "source": [
    "# Notificações\n",
    "navegador.find_element(by=By.XPATH, value='/html/body/div[5]/div/div/div/div[3]/button[2]').click()\n"
   ]
  },
  {
   "cell_type": "code",
   "execution_count": 8,
   "id": "def6d1ec",
   "metadata": {},
   "outputs": [],
   "source": [
    "# Busca\n",
    "navegador.find_element(by=By.XPATH, value='//*[@id=\"react-root\"]/section/nav/div[2]/div/div/div[2]/div[1]').click()\n",
    "search=navegador.find_element(by=By.XPATH, value='//*[@id=\"react-root\"]/section/nav/div[2]/div/div/div[2]/input')\n",
    "search.send_keys(query)"
   ]
  },
  {
   "cell_type": "code",
   "execution_count": 9,
   "id": "cf9b2388",
   "metadata": {},
   "outputs": [],
   "source": [
    "# Acesso perfil\n",
    "sleep(3)\n",
    "navegador.find_element(by=By.CSS_SELECTOR, value='#react-root > section > nav > div._8MQSO.Cx7Bp > div > div > div.QY4Ed.P0xOK > div.yPP5B > div > div._01UL2 > div > div:nth-child(1)').click()"
   ]
  },
  {
   "cell_type": "code",
   "execution_count": 10,
   "id": "a0afcf8b",
   "metadata": {},
   "outputs": [],
   "source": [
    "# Seguir\n",
    "sleep(4)\n",
    "# navegador.find_element(by=By.XPATH, value='//*[@id=\"react-root\"]/section/main/div/header/section/div[2]/div/div/button').click()\n",
    "# navegador.find_element(by=By.XPATH, value='//*[@id=\"react-root\"]/section/main/div/header/section/div[1]/div[1]/div/div/div/span/span[1]/button').click()\n",
    "navegador.find_element(by=By.XPATH, value='//*[@id=\"react-root\"]/section/main/div/header/section/div[1]/div[1]/div').click()"
   ]
  },
  {
   "cell_type": "code",
   "execution_count": null,
   "id": "37e043d1",
   "metadata": {},
   "outputs": [],
   "source": []
  },
  {
   "cell_type": "code",
   "execution_count": null,
   "id": "a24e3289",
   "metadata": {},
   "outputs": [],
   "source": []
  },
  {
   "cell_type": "code",
   "execution_count": null,
   "id": "d77844db",
   "metadata": {},
   "outputs": [],
   "source": []
  }
 ],
 "metadata": {
  "kernelspec": {
   "display_name": "Py3.10(#instagram_bot)",
   "language": "python",
   "name": "hashtag_instagram_bot"
  },
  "language_info": {
   "codemirror_mode": {
    "name": "ipython",
    "version": 3
   },
   "file_extension": ".py",
   "mimetype": "text/x-python",
   "name": "python",
   "nbconvert_exporter": "python",
   "pygments_lexer": "ipython3",
   "version": "3.10.2"
  }
 },
 "nbformat": 4,
 "nbformat_minor": 5
}
